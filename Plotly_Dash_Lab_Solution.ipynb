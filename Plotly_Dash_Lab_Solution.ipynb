{
 "cells": [
  {
   "cell_type": "markdown",
   "metadata": {},
   "source": [
    "# Q0: import dash standard libraries"
   ]
  },
  {
   "cell_type": "code",
   "execution_count": 1,
   "metadata": {},
   "outputs": [],
   "source": [
    "import warnings\n",
    "warnings.filterwarnings(\"ignore\")\n",
    "from dash import Dash, dcc, html, Input, Output\n",
    "from jupyter_dash import JupyterDash"
   ]
  },
  {
   "cell_type": "markdown",
   "metadata": {},
   "source": [
    "# Q1: Make dash that prints \"Data Science\""
   ]
  },
  {
   "cell_type": "code",
   "execution_count": 2,
   "metadata": {},
   "outputs": [],
   "source": [
    "# app = JupyterDash()\n",
    "\n",
    "# app.layout = html.Div([\n",
    "#     html.H1('Data Science')\n",
    "# ])\n",
    "\n",
    "# app.run_server()"
   ]
  },
  {
   "cell_type": "markdown",
   "metadata": {},
   "source": [
    "# Q2: Make dash that takes name input and outpt \"Welcome to Data Science dashboard {name}\""
   ]
  },
  {
   "cell_type": "code",
   "execution_count": 3,
   "metadata": {},
   "outputs": [],
   "source": [
    "# app = JupyterDash()\n",
    "\n",
    "# app.layout = html.Div([\n",
    "#     html.H6(\"Enter a name:\", style = {'font-size': 25}),\n",
    "#     html.Div([\n",
    "#         \"Input: \",\n",
    "#         dcc.Input(id = 'input', type = 'text'),\n",
    "#     ], style = {'font-size': 25}),\n",
    "#     html.Br(),\n",
    "#     html.Div(id = 'output', style = {'font-size': 25}),\n",
    "\n",
    "# ])\n",
    "\n",
    "# @app.callback(\n",
    "#     Output('output', 'children'),\n",
    "#     Input('input', 'value')\n",
    "# )\n",
    "# def update_output_div(input_value):\n",
    "#     return f'Welcome to Data Science dashboard, {input_value}'\n",
    "\n",
    "# app.run_server()"
   ]
  },
  {
   "cell_type": "markdown",
   "metadata": {},
   "source": [
    "# Q3: Make Plotly-Dash that takes two inputs (numbers) and output 3 numbers x, y , z= x+y\n",
    "- hint: use html.Div, dcc.Input(type='number')"
   ]
  },
  {
   "cell_type": "code",
   "execution_count": 4,
   "metadata": {},
   "outputs": [],
   "source": [
    "# app = JupyterDash()\n",
    "\n",
    "# app.layout = html.Div([\n",
    "#     html.H6(\"Enter x and y\", style = {'font-size': 25}),\n",
    "#     html.Div([\n",
    "#         \"Input x: \",\n",
    "#         dcc.Input(id = 'x', value = 'Enter x', type = 'number')\n",
    "#     ],\n",
    "#     style = {'font-size': 25}),\n",
    "#     html.Div([\n",
    "#         \"Input y: \",\n",
    "#         dcc.Input(id = 'y', value = 'Enter y', type = 'number')\n",
    "#     ],\n",
    "#     style = {'font-size': 25}),\n",
    "#     html.Br(),\n",
    "#     html.Div(id = 'output', style = {'font-size': 25}),\n",
    "\n",
    "# ])\n",
    "\n",
    "# @app.callback(\n",
    "#     Output('output', 'children'),\n",
    "#     [Input('x', 'value'),\n",
    "#      Input('y', 'value')\n",
    "#     ]\n",
    "# )\n",
    "# def update_output_div(x, y):\n",
    "#     return f'x = {x}, y = {y}, z = {x + y}'\n",
    "\n",
    "# app.run_server()"
   ]
  },
  {
   "cell_type": "markdown",
   "metadata": {},
   "source": [
    "# Q4.1: Make JubyterDash with Rangeslider from 1-15 with 6 option"
   ]
  },
  {
   "cell_type": "code",
   "execution_count": 5,
   "metadata": {},
   "outputs": [],
   "source": [
    "# app = JupyterDash()\n",
    "\n",
    "# app.layout = html.Div([\n",
    "#     dcc.RangeSlider(1, 15, 3, id = 'rs'),\n",
    "# ])\n",
    "\n",
    "# app.run_server()"
   ]
  },
  {
   "cell_type": "markdown",
   "metadata": {},
   "source": [
    "# Q4.2: add to the previous dash: Label, set default value on rangeslider as 7-10"
   ]
  },
  {
   "cell_type": "code",
   "execution_count": 6,
   "metadata": {},
   "outputs": [],
   "source": [
    "# app = JupyterDash()\n",
    "\n",
    "# app.layout = html.Div([\n",
    "#     dcc.RangeSlider(1, 15, 3, value = [7, 10], id = 'rs'),\n",
    "#     html.Div(id = 'output-rs')\n",
    "# ])\n",
    "# @app.callback(\n",
    "#     Output('output-rs', 'children'),\n",
    "#     Input('rs', 'value'))\n",
    "# def update_output(value):\n",
    "#     return 'You have selected {}'.format(value)\n",
    "\n",
    "# app.run_server()"
   ]
  },
  {
   "cell_type": "markdown",
   "metadata": {},
   "source": [
    "# Q5: Make 3 different Dcc types (Dropdown - Checkbox...) in one dash"
   ]
  },
  {
   "cell_type": "code",
   "execution_count": 7,
   "metadata": {
    "scrolled": false
   },
   "outputs": [],
   "source": [
    "# app = JupyterDash()\n",
    "\n",
    "# app.layout = html.Div([\n",
    "#     html.H3('Select your age range:'),\n",
    "#     dcc.RangeSlider(18, 30, 2),\n",
    "#     html.H3('Select your city:'),\n",
    "#     dcc.Dropdown(\n",
    "#         ['Qassim', 'Riyadh', 'Dammam'],\n",
    "#         'Qassim'\n",
    "#     ),\n",
    "#     html.H3('Select your skills'),\n",
    "#     dcc.Checklist(\n",
    "#         ['Python', 'SQL', 'Statistics'],\n",
    "#         ['Python']\n",
    "#     )\n",
    "# ])\n",
    "\n",
    "# app.run_server()"
   ]
  },
  {
   "cell_type": "markdown",
   "metadata": {},
   "source": [
    "# Q6: Make Plotly chart, then add it to a plotly_dash"
   ]
  },
  {
   "cell_type": "code",
   "execution_count": 8,
   "metadata": {},
   "outputs": [],
   "source": [
    "import plotly.express as px\n",
    "import dash_bootstrap_components as dbc\n",
    "import pandas as pd"
   ]
  },
  {
   "cell_type": "code",
   "execution_count": 9,
   "metadata": {},
   "outputs": [],
   "source": [
    "# data = {\n",
    "#     'Ages' : [18, 19, 20, 21, 22, 23],\n",
    "#     'Count' : [35, 28, 40, 23, 39, 45]\n",
    "# }\n",
    "# df = pd.DataFrame(data)\n",
    "# fig = px.bar(df, x = 'Ages', y = 'Count', title = 'Ages of Students in Tuwaiq Academy', color = 'Ages')\n",
    "\n",
    "# app = JupyterDash(external_stylesheets=[dbc.themes.LUX])\n",
    "\n",
    "# app.layout = html.Div([\n",
    "#     dcc.Graph(figure=fig)\n",
    "# ])\n",
    "\n",
    "# app.run_server()"
   ]
  },
  {
   "cell_type": "markdown",
   "metadata": {},
   "source": [
    "# Q7: From our data make plotly-dash with suitble chart, and Dropdown.\n",
    "\n",
    "- Dropdown should contain at least 3 options, each one represents different column.\n",
    "- Add label to dropdown.\n",
    "- The chart data should change depending on the selected dropdown option."
   ]
  },
  {
   "cell_type": "code",
   "execution_count": 10,
   "metadata": {
    "scrolled": false
   },
   "outputs": [],
   "source": [
    "import pandas as pd\n",
    "df = pd.read_csv(\"titanic passenger list.csv\")"
   ]
  },
  {
   "cell_type": "code",
   "execution_count": 11,
   "metadata": {},
   "outputs": [],
   "source": [
    "# app = JupyterDash(external_stylesheets=[dbc.themes.LUX])\n",
    "\n",
    "# app.layout = html.Div(children = [\n",
    "#     html.Br([]),\n",
    "#     html.H1('Survived Passengers from the Titanic', style = {'text-align':'center' ,  'color': 'white'}),\n",
    "    \n",
    "#     dcc.Dropdown(\n",
    "#         id = 'my-drop',\n",
    "#         options = [\n",
    "#             {'label': 'boat', 'value': 'boat'},\n",
    "#             {'label': 'embarked', 'value': 'embarked'},\n",
    "#             {'label': 'sex', 'value': 'sex'},\n",
    "#         ],\n",
    "#     ),\n",
    "    \n",
    "#     dcc.Graph(id = 'my-graph')\n",
    "    \n",
    "# ])\n",
    "\n",
    "# @app.callback(\n",
    "#     Output('my-graph', 'figure'),\n",
    "#     Input('my-drop', 'value')\n",
    "# )\n",
    "\n",
    "# def update_graph(selected_column):\n",
    "#     fig = px.bar(\n",
    "#         df, x = selected_column,\n",
    "#         color = selected_column, \n",
    "#         title = f'Count of {selected_column}'\n",
    "#     )\n",
    "    \n",
    "#     return fig\n",
    "\n",
    "# app.run_server()"
   ]
  },
  {
   "cell_type": "markdown",
   "metadata": {},
   "source": [
    "# Q8: add 2 more charts to the prevoius Ploty-Dash"
   ]
  },
  {
   "cell_type": "code",
   "execution_count": 12,
   "metadata": {},
   "outputs": [],
   "source": [
    "# import dash\n",
    "# import dash_bootstrap_components as dbc\n",
    "# import numpy as np\n",
    "\n",
    "# app = dash.Dash(__name__, external_stylesheets=[dbc.themes.LUX])\n",
    "\n",
    "# # Sample DataFrame for testing purposes\n",
    "# np.random.seed(42)\n",
    "# num_rows = 100\n",
    "# df = pd.DataFrame({\n",
    "#     'boat': np.random.choice(['A', 'B', 'C', 'D'], num_rows),\n",
    "#     'embarked': np.random.choice(['S', 'C', 'Q'], num_rows),\n",
    "#     'sex': np.random.choice(['male', 'female'], num_rows),\n",
    "#     'age': np.random.randint(1, 100, num_rows),\n",
    "#     'fare': np.random.uniform(10, 500, num_rows),\n",
    "#     'survived': np.random.choice([0, 1], num_rows),\n",
    "#     'pclass': np.random.choice([1, 2, 3], num_rows)\n",
    "# })\n",
    "\n",
    "# app.layout = html.Div(children=[\n",
    "#     html.Br([]),\n",
    "#     html.H1('Survived Passengers from the Titanic', style={'text-align': 'center', 'color': 'white'}),\n",
    "\n",
    "#     dcc.Dropdown(\n",
    "#         id='my-drop',\n",
    "#         options=[\n",
    "#             {'label': 'boat', 'value': 'boat'},\n",
    "#             {'label': 'embarked', 'value': 'embarked'},\n",
    "#             {'label': 'sex', 'value': 'sex'},\n",
    "#         ],\n",
    "#     ),\n",
    "\n",
    "#     dcc.Graph(id='my-bar-graph'),\n",
    "#     dcc.Graph(id='my-box-graph'),  # Changed 'my-line-graph' to 'my-box-graph'\n",
    "#     dcc.Graph(id='my-scatter-graph')\n",
    "# ])\n",
    "\n",
    "# @app.callback(\n",
    "#     [dash.dependencies.Output('my-bar-graph', 'figure'),\n",
    "#      dash.dependencies.Output('my-box-graph', 'figure'),  # Changed 'my-line-graph' to 'my-box-graph'\n",
    "#      dash.dependencies.Output('my-scatter-graph', 'figure')],\n",
    "#     [dash.dependencies.Input('my-drop', 'value')]\n",
    "# )\n",
    "# def update_graph(selected_column):\n",
    "#     bar_fig = px.bar(\n",
    "#         df[selected_column].value_counts().reset_index(),\n",
    "#         x = 'index', y = selected_column,\n",
    "#         color = 'index', \n",
    "#         labels = {selected_column: 'Count', 'index' : selected_column},\n",
    "#         title = f'Count of {selected_column}'\n",
    "#     )\n",
    "\n",
    "#     box_fig = px.box(  # Changed from 'px.line' to 'px.box'\n",
    "#         df, x = selected_column, y = 'age',\n",
    "#         color = selected_column,\n",
    "#         labels = {selected_column: selected_column, 'age': 'Age'},\n",
    "#         title = f'{selected_column} vs age'\n",
    "#     )\n",
    "\n",
    "#     scatter_fig = px.scatter(\n",
    "#         df, x = selected_column, y='fare',\n",
    "#         color = 'survived', \n",
    "#         size = 'pclass',\n",
    "#         labels = {selected_column: selected_column, 'fare': 'Fare'},\n",
    "#         title = f'{selected_column} vs Fare with Survival'\n",
    "#     )\n",
    "\n",
    "#     return bar_fig, box_fig, scatter_fig\n",
    "\n",
    "# if __name__ == '__main__':\n",
    "#     app.run_server(mode='inline')\n"
   ]
  },
  {
   "cell_type": "markdown",
   "metadata": {},
   "source": [
    "# Q9: Search for \"Plotly Gallery\" and fetch for a graph and use it with our data.\n",
    "\n",
    "- Note: You need to put the resourse addres of fetched your grapth."
   ]
  },
  {
   "cell_type": "code",
   "execution_count": 13,
   "metadata": {},
   "outputs": [],
   "source": [
    "# df['survived'] = df['survived'].replace({0: 'did not survive', 1: 'survived'})\n",
    "# fig = px.violin(df, x = 'survived', y = \"age\",\n",
    "#                 box = True,\n",
    "#                 points='all',\n",
    "#                 title = 'ages of survived and failed to survive',\n",
    "#                 labels = {'survived' : 'survived and failed to survive'}\n",
    "#                )\n",
    "# #resource: https://plotly.com/python/violin/\n",
    "\n",
    "# app = JupyterDash(external_stylesheets=[dbc.themes.LUX])\n",
    "\n",
    "# app.layout = html.Div([\n",
    "#     dcc.Graph(figure = fig)\n",
    "# ])\n",
    "\n",
    "# app.run_server()\n"
   ]
  },
  {
   "cell_type": "markdown",
   "metadata": {},
   "source": [
    "# Challenge 1.1: Create Plotly dash with two charts depends on different columns of the data\n",
    "- First Chart : Pie\n",
    "- Secound Chart: is by your Choice ( Not Pie )"
   ]
  },
  {
   "cell_type": "code",
   "execution_count": 14,
   "metadata": {},
   "outputs": [
    {
     "name": "stdout",
     "output_type": "stream",
     "text": [
      "Dash app running on http://127.0.0.1:8050/\n"
     ]
    },
    {
     "data": {
      "text/html": [
       "\n",
       "        <iframe\n",
       "            width=\"100%\"\n",
       "            height=\"650\"\n",
       "            src=\"http://127.0.0.1:8050/\"\n",
       "            frameborder=\"0\"\n",
       "            allowfullscreen\n",
       "            \n",
       "        ></iframe>\n",
       "        "
      ],
      "text/plain": [
       "<IPython.lib.display.IFrame at 0x1128fcc10>"
      ]
     },
     "metadata": {},
     "output_type": "display_data"
    }
   ],
   "source": [
    "df['survived'] = df['survived'].replace({0: 'did not survive', 1: 'survived'})\n",
    "\n",
    "app = JupyterDash(external_stylesheets=[dbc.themes.LUX])\n",
    "\n",
    "app.layout = html.Div([\n",
    "    html.H1(\"Passenger Data Visualization\"),\n",
    "    \n",
    "    dcc.Graph(id='pie-chart'),\n",
    "    dcc.Graph(id='scatter-plot'),\n",
    "])\n",
    "\n",
    "@app.callback(\n",
    "    Output('pie-chart', 'figure'),\n",
    "    Input('scatter-plot', 'clickData')\n",
    ")\n",
    "def update_pie_chart(click_data):\n",
    "    pie_fig = px.pie(df, names = 'survived', title = 'Survival Distribution')\n",
    "    return pie_fig\n",
    "\n",
    "@app.callback(\n",
    "    Output('scatter-plot', 'figure'),\n",
    "    Input('pie-chart', 'clickData')  # You can use any other input as needed\n",
    ")\n",
    "def update_scatter_plot(click_data):\n",
    "    scatter_fig = px.scatter(df, x = 'age', y = 'pclass', title = 'Age vs Pclass')\n",
    "    return scatter_fig\n",
    "\n",
    "\n",
    "app.run_server()"
   ]
  },
  {
   "cell_type": "markdown",
   "metadata": {},
   "source": [
    "# Challenge 1.2: Make Hovering over a slice of the pie changes the data for the second chart depending on what the slice is."
   ]
  },
  {
   "cell_type": "code",
   "execution_count": null,
   "metadata": {},
   "outputs": [],
   "source": []
  }
 ],
 "metadata": {
  "kernelspec": {
   "display_name": "Python 3 (ipykernel)",
   "language": "python",
   "name": "python3"
  },
  "language_info": {
   "codemirror_mode": {
    "name": "ipython",
    "version": 3
   },
   "file_extension": ".py",
   "mimetype": "text/x-python",
   "name": "python",
   "nbconvert_exporter": "python",
   "pygments_lexer": "ipython3",
   "version": "3.11.3"
  }
 },
 "nbformat": 4,
 "nbformat_minor": 2
}
